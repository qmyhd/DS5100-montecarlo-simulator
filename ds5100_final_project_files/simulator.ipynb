{
 "cells": [
  {
   "cell_type": "code",
   "execution_count": 1,
   "metadata": {},
   "outputs": [
    {
     "ename": "ModuleNotFoundError",
     "evalue": "No module named 'montecarlo'",
     "output_type": "error",
     "traceback": [
      "\u001b[1;31m---------------------------------------------------------------------------\u001b[0m",
      "\u001b[1;31mModuleNotFoundError\u001b[0m                       Traceback (most recent call last)",
      "Cell \u001b[1;32mIn[1], line 3\u001b[0m\n\u001b[0;32m      1\u001b[0m \u001b[38;5;28;01mimport\u001b[39;00m \u001b[38;5;21;01mnumpy\u001b[39;00m \u001b[38;5;28;01mas\u001b[39;00m \u001b[38;5;21;01mnp\u001b[39;00m\n\u001b[0;32m      2\u001b[0m \u001b[38;5;28;01mimport\u001b[39;00m \u001b[38;5;21;01mpandas\u001b[39;00m \u001b[38;5;28;01mas\u001b[39;00m \u001b[38;5;21;01mpd\u001b[39;00m\n\u001b[1;32m----> 3\u001b[0m \u001b[38;5;28;01mimport\u001b[39;00m \u001b[38;5;21;01mmontecarlo\u001b[39;00m \u001b[38;5;28;01mas\u001b[39;00m \u001b[38;5;21;01mmc\u001b[39;00m\n\u001b[0;32m      5\u001b[0m \u001b[38;5;66;03m# Create dice instances\u001b[39;00m\n\u001b[0;32m      6\u001b[0m die \u001b[38;5;241m=\u001b[39m mc\u001b[38;5;241m.\u001b[39mDie(np\u001b[38;5;241m.\u001b[39marray([\u001b[38;5;124m'\u001b[39m\u001b[38;5;124m1\u001b[39m\u001b[38;5;124m'\u001b[39m, \u001b[38;5;124m'\u001b[39m\u001b[38;5;124m2\u001b[39m\u001b[38;5;124m'\u001b[39m, \u001b[38;5;124m'\u001b[39m\u001b[38;5;124m3\u001b[39m\u001b[38;5;124m'\u001b[39m, \u001b[38;5;124m'\u001b[39m\u001b[38;5;124m4\u001b[39m\u001b[38;5;124m'\u001b[39m, \u001b[38;5;124m'\u001b[39m\u001b[38;5;124m5\u001b[39m\u001b[38;5;124m'\u001b[39m, \u001b[38;5;124m'\u001b[39m\u001b[38;5;124m6\u001b[39m\u001b[38;5;124m'\u001b[39m]))\n",
      "\u001b[1;31mModuleNotFoundError\u001b[0m: No module named 'montecarlo'"
     ]
    }
   ],
   "source": [
    "import numpy as np\n",
    "import pandas as pd\n",
    "import montecarlo as mc\n",
    "\n",
    "# Create dice instances\n",
    "die = mc.Die(np.array(['1', '2', '3', '4', '5', '6']))\n",
    "die2 = mc.Die(np.array(['1', '2', '3', '4', '5', '6']))\n",
    "die3 = mc.Die(np.array(['1', '2', '3', '4', '5', '6']))\n",
    "\n",
    "# Set different weights for the faces\n",
    "die.change_weight('6', 8)\n",
    "die2.change_weight('6', 7)\n",
    "die3.change_weight('6', 8)\n",
    "\n",
    "# Create a game instance with the dice\n",
    "game = mc.Game([die, die2, die3])\n",
    "\n",
    "# Play the game\n",
    "game.play(25)\n",
    "\n",
    "# Show the most recent play results\n",
    "most_recent_play = game.show_results()\n",
    "print(most_recent_play)\n",
    "\n",
    "# Analyze the game results\n",
    "analyzer = mc.Analyzer(game)\n",
    "\n",
    "# Compute the number of jackpots\n",
    "jackpot_count = analyzer.jackpot()\n",
    "print(f\"Jackpot count: {jackpot_count}\")\n",
    "\n",
    "# Compute face counts per roll\n",
    "face_counts = analyzer.face_counts_per_roll()\n",
    "print(face_counts)\n",
    "\n",
    "# Compute combination counts\n",
    "combo_counts = analyzer.combo_counts()\n",
    "print(combo_counts)\n",
    "\n",
    "# Compute permutation counts\n",
    "permutation_counts = analyzer.permutation_counts()\n",
    "print(permutation_counts)"
   ]
  }
 ],
 "metadata": {
  "kernelspec": {
   "display_name": "myenv",
   "language": "python",
   "name": "python3"
  },
  "language_info": {
   "codemirror_mode": {
    "name": "ipython",
    "version": 3
   },
   "file_extension": ".py",
   "mimetype": "text/x-python",
   "name": "python",
   "nbconvert_exporter": "python",
   "pygments_lexer": "ipython3",
   "version": "3.11.9"
  }
 },
 "nbformat": 4,
 "nbformat_minor": 2
}
