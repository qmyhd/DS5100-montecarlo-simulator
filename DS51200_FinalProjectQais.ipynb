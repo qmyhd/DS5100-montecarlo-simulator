{
 "cells": [
  {
   "cell_type": "markdown",
   "id": "45762487-d33f-486d-8e38-2cdea04e3528",
   "metadata": {},
   "source": [
    "# Final Project Report\n",
    "\n",
    "* Class: DS 5100\n",
    "* Student Name: Qais Youssef\n",
    "* Student Net ID: qmy6cv\n",
    "* This URL: https://github.com/qmyhd/DS5100-FinalProject-qmy6cv/blob/2d3b7ceb44ef6958b37b9fb2592e2927fc2af518/ds5100_final_project_files/DS51200_FinalProjectQais.ipynb"
   ]
  },
  {
   "cell_type": "markdown",
   "id": "acf756c1-ecaa-41dc-b6ca-d566eb94560b",
   "metadata": {},
   "source": [
    "# Instructions\n",
    "\n",
    "Follow the instructions in the Final Project isntructions notebook and put evidence of your work in this notebook.\n",
    "\n",
    "Total points for each subsection under **Deliverables** and **Scenarios** are given in parentheses.\n",
    "\n",
    "Breakdowns of points within subsections are specified within subsection instructions as bulleted lists.\n",
    "\n",
    "This project is worth **50 points**."
   ]
  },
  {
   "cell_type": "markdown",
   "id": "89dc7a32-f682-4402-8c1e-b6ccdb3e0e39",
   "metadata": {},
   "source": [
    "# Deliverables"
   ]
  },
  {
   "cell_type": "markdown",
   "id": "d32cb273-9a40-4909-a7ce-51f6e4958d3c",
   "metadata": {},
   "source": [
    "## The Monte Carlo Module (10)\n",
    "\n",
    "- URL included, appropriately named (1).\n",
    "- Includes all three specified classes (3).\n",
    "- Includes at least all 12 specified methods (6; .5 each)."
   ]
  },
  {
   "cell_type": "markdown",
   "id": "f5f3b070-de9e-4de9-bfae-8974d184aa28",
   "metadata": {},
   "source": [
    "Put the URL to your GitHub repo here.\n",
    "\n",
    "Repo URL: https://github.com/qmyhd/DS5100-FinalProject-qmy6cv.git"
   ]
  },
  {
   "cell_type": "markdown",
   "id": "162370fb-3729-4c85-b040-8c25b2c966d2",
   "metadata": {},
   "source": [
    "Paste a copyy of your module here.\n",
    "\n",
    "NOTE: Paste as text, not as code. Use triple backticks to wrap your code blocks."
   ]
  },
  {
   "cell_type": "markdown",
   "id": "9fe30b2a",
   "metadata": {},
   "source": [
    "```\n",
    "\n",
    "# A code block with your classes.\n",
    "import numpy as np\n",
    "import pandas as pd\n",
    "\n",
    "class Die:\n",
    "    \"\"\"A class representing a die with customizable faces and weights.\"\"\"\n",
    "\n",
    "    def __init__(self, faces):\n",
    "        \"\"\"\n",
    "        Initialize the die with faces and default weights.\n",
    "\n",
    "        Parameters:\n",
    "        faces (numpy.ndarray): An array of faces for the die. Must be strings or numbers.\n",
    "\n",
    "        Raises:\n",
    "        TypeError: If faces is not a NumPy array.\n",
    "        ValueError: If faces do not have unique values.\n",
    "        \"\"\"\n",
    "        if not isinstance(faces, np.ndarray):\n",
    "            raise TypeError(\"Faces must be a NumPy array\")\n",
    "        if len(faces) != len(np.unique(faces)):\n",
    "            raise ValueError(\"Faces must have unique values\")\n",
    "        self._faces = faces\n",
    "        self._weights = np.ones_like(faces, dtype=float)\n",
    "        self._die_df = pd.DataFrame({'weights': self._weights}, index=self._faces)\n",
    "\n",
    "    def change_weight(self, face, new_weight):\n",
    "        \"\"\"\n",
    "        Change the weight of a specific face.\n",
    "\n",
    "        Parameters:\n",
    "        face: The face value to be changed.\n",
    "        new_weight: The new weight for the specified face.\n",
    "\n",
    "        Raises:\n",
    "        ValueError: If the face is not in the die faces.\n",
    "        TypeError: If the new weight is not numeric.\n",
    "        \"\"\"\n",
    "        if face not in self._faces:\n",
    "            raise ValueError(\"Face not found in die faces\")\n",
    "        if not isinstance(new_weight, (int, float)):\n",
    "            raise TypeError(\"Weight must be numeric\")\n",
    "        self._die_df.loc[face, 'weights'] = new_weight\n",
    "\n",
    "    def roll(self, times=1):\n",
    "        \"\"\"\n",
    "        Roll the die a specified number of times.\n",
    "\n",
    "        Parameters:\n",
    "        times (int): The number of times to roll the die. Defaults to 1.\n",
    "\n",
    "        Returns:\n",
    "        list: A list of outcomes from the rolls.\n",
    "        \"\"\"\n",
    "        return list(np.random.choice(self._faces, size=times, p=self._die_df['weights'] / self._die_df['weights'].sum()))\n",
    "\n",
    "    def show(self):\n",
    "        \"\"\"\n",
    "        Return the current state of the die.\n",
    "\n",
    "        Returns:\n",
    "        pandas.DataFrame: A DataFrame containing faces and their weights.\n",
    "        \"\"\"\n",
    "        return self._die_df.copy()\n",
    "\n",
    "\n",
    "class Game:\n",
    "    \"\"\"A class representing a game with multiple dice.\"\"\"\n",
    "\n",
    "    def __init__(self, dice):\n",
    "        \"\"\"\n",
    "        Initialize the game with a list of dice.\n",
    "\n",
    "        Parameters:\n",
    "        dice (list): A list of already instantiated Die objects.\n",
    "        \"\"\"\n",
    "        self._dice = dice\n",
    "\n",
    "    def play(self, rolls):\n",
    "        \"\"\"\n",
    "        Roll all dice a specified number of times.\n",
    "\n",
    "        Parameters:\n",
    "        rolls (int): The number of times the dice should be rolled.\n",
    "        \"\"\"\n",
    "        results = {i: die.roll(rolls) for i, die in enumerate(self._dice)}\n",
    "        self._results_df = pd.DataFrame(results)\n",
    "\n",
    "    def show_results(self, form='wide'):\n",
    "        \"\"\"\n",
    "        Return the results of the most recent play.\n",
    "\n",
    "        Parameters:\n",
    "        form (str): The format of the results, 'wide' or 'narrow'. Defaults to 'wide'.\n",
    "\n",
    "        Returns:\n",
    "        pandas.DataFrame: The results in the specified format.\n",
    "\n",
    "        Raises:\n",
    "        ValueError: If the form is not 'wide' or 'narrow'.\n",
    "        \"\"\"\n",
    "        if form == 'wide':\n",
    "            return self._results_df.copy()\n",
    "        elif form == 'narrow':\n",
    "            return self._results_df.melt(var_name='die', value_name='result')\n",
    "        else:\n",
    "            raise ValueError(\"Invalid format. Choose 'wide' or 'narrow'.\")\n",
    "\n",
    "\n",
    "class Analyzer:\n",
    "    \"\"\"A class for analyzing the results of a game.\"\"\"\n",
    "\n",
    "    def __init__(self, game):\n",
    "        \"\"\"\n",
    "        Initialize the analyzer with a game object.\n",
    "\n",
    "        Parameters:\n",
    "        game (Game): A Game object to be analyzed.\n",
    "\n",
    "        Raises:\n",
    "        ValueError: If the input is not a Game object.\n",
    "        \"\"\"\n",
    "        if not isinstance(game, Game):\n",
    "            raise ValueError(\"Input must be a Game object\")\n",
    "        self._results_df = game.show_results()\n",
    "\n",
    "    def jackpot(self):\n",
    "        \"\"\"\n",
    "        Count the number of jackpots in the game.\n",
    "\n",
    "        Returns:\n",
    "        int: The number of jackpots.\n",
    "        \"\"\"\n",
    "        return int((self._results_df.nunique(axis=1) == 1).sum())\n",
    "\n",
    "    def face_counts_per_roll(self):\n",
    "        \"\"\"\n",
    "        Count the occurrences of each face per roll.\n",
    "\n",
    "        Returns:\n",
    "        pandas.DataFrame: A DataFrame with roll numbers as index and face counts as columns.\n",
    "        \"\"\"\n",
    "        return self._results_df.apply(pd.Series.value_counts, axis=1).fillna(0)\n",
    "\n",
    "    def combo_counts(self):\n",
    "        \"\"\"\n",
    "        Count the distinct combinations of faces rolled.\n",
    "\n",
    "        Returns:\n",
    "        pandas.DataFrame: A DataFrame with counts of distinct combinations.\n",
    "        \"\"\"\n",
    "        combos = self._results_df.apply(lambda row: tuple(sorted(row)), axis=1)\n",
    "        return combos.value_counts().reset_index(name='count').rename(columns={'index': 'combo'})\n",
    "\n",
    "    def permutation_counts(self):\n",
    "        \"\"\"\n",
    "        Count the distinct permutations of faces rolled.\n",
    "\n",
    "        Returns:\n",
    "        pandas.DataFrame: A DataFrame with counts of distinct permutations.\n",
    "        \"\"\"\n",
    "        perms = self._results_df.apply(tuple, axis=1)\n",
    "        return perms.value_counts().reset_index(name='count').rename(columns={'index': 'permutation'})\n",
    "    ```"
   ]
  },
  {
   "cell_type": "markdown",
   "id": "6377727a-8f0a-491e-9f1c-d9dc225edd35",
   "metadata": {},
   "source": [
    "## Unitest Module (2)\n",
    "\n",
    "Paste a copy of your test module below.\n",
    "\n",
    "NOTE: Paste as text, not as code. Use triple backticks to wrap your code blocks.\n",
    "\n",
    "- All methods have at least one test method (1).\n",
    "- Each method employs one of Unittest's Assert methods (1)."
   ]
  },
  {
   "cell_type": "markdown",
   "id": "5d7ff97d",
   "metadata": {},
   "source": [
    "```\n",
    "import unittest\n",
    "import numpy as np\n",
    "import pandas as pd\n",
    "from montecarlo.montecarlo import Die, Game, Analyzer\n",
    "class TestDie(unittest.TestCase):\n",
    "\n",
    "    def setUp(self):\n",
    "        self.die = Die(np.array([1, 2, 3, 4, 5, 6]))\n",
    "\n",
    "    def test_faces_not_numpy_array(self):\n",
    "        \"\"\"Check that input for faces is a numpy array.\"\"\"\n",
    "        faces = ['a', 'b', 'c']\n",
    "        with self.assertRaises(TypeError):\n",
    "            Die(faces)\n",
    "\n",
    "    def test_faces_unique(self):\n",
    "        \"\"\"Check that faces array contains unique values.\"\"\"\n",
    "        faces = np.array([1, 2, 2])\n",
    "        with self.assertRaises(ValueError):\n",
    "            Die(faces)\n",
    "\n",
    "    def test_change_weight(self):\n",
    "        \"\"\"Check setting weight to a valid numeric value.\"\"\"\n",
    "        self.die.change_weight(1, 2.0)\n",
    "        self.assertEqual(self.die._die_df.loc[1, 'weights'], 2.0)\n",
    "\n",
    "    def test_roll(self):\n",
    "        \"\"\"Check rolling die with valid number of rolls.\"\"\"\n",
    "        result = self.die.roll(10)\n",
    "        self.assertEqual(len(result), 10)\n",
    "        for face in result:\n",
    "            self.assertIn(face, self.die._faces)\n",
    "\n",
    "    def test_show(self):\n",
    "        \"\"\"Check getting die weights.\"\"\"\n",
    "        df = self.die.show()\n",
    "        self.assertTrue(isinstance(df, pd.DataFrame))\n",
    "\n",
    "\n",
    "class TestGame(unittest.TestCase):\n",
    "\n",
    "    def setUp(self):\n",
    "        self.die1 = Die(np.array([1, 2, 3, 4, 5, 6]))\n",
    "        self.die2 = Die(np.array([1, 2, 3, 4, 5, 6]))\n",
    "        self.game = Game([self.die1, self.die2])\n",
    "\n",
    "    def test_play(self):\n",
    "        \"\"\"Check playing game with valid number of rolls.\"\"\"\n",
    "        self.game.play(10)\n",
    "        self.assertEqual(self.game._results_df.shape, (10, 2))\n",
    "\n",
    "    def test_show_results(self):\n",
    "        \"\"\"Check retrieving play results with valid format.\"\"\"\n",
    "        self.game.play(10)\n",
    "        df_wide = self.game.show_results('wide')\n",
    "        self.assertEqual(df_wide.shape, (10, 2))\n",
    "        df_narrow = self.game.show_results('narrow')\n",
    "        self.assertEqual(df_narrow.shape, (20, 2))\n",
    "\n",
    "\n",
    "class TestAnalyzer(unittest.TestCase):\n",
    "\n",
    "    def setUp(self):\n",
    "        self.die1 = Die(np.array([1, 2, 3, 4, 5, 6]))\n",
    "        self.die2 = Die(np.array([1, 2, 3, 4, 5, 6]))\n",
    "        self.game = Game([self.die1, self.die2])\n",
    "        self.game.play(10)\n",
    "        self.analyzer = Analyzer(self.game)\n",
    "\n",
    "    def test_jackpot(self):\n",
    "        \"\"\"Check computing jackpot count.\"\"\"\n",
    "        jackpots = self.analyzer.jackpot()\n",
    "        self.assertTrue(isinstance(jackpots, int))\n",
    "        self.assertGreaterEqual(jackpots, 0)\n",
    "\n",
    "    def test_face_counts_per_roll(self):\n",
    "        \"\"\"Check face counts per roll.\"\"\"\n",
    "        df = self.analyzer.face_counts_per_roll()\n",
    "        self.assertTrue(isinstance(df, pd.DataFrame))\n",
    "\n",
    "    def test_combo_counts(self):\n",
    "        \"\"\"Check combination counts.\"\"\"\n",
    "        df = self.analyzer.combo_counts()\n",
    "        self.assertTrue(isinstance(df, pd.DataFrame))\n",
    "\n",
    "    def test_permutation_counts(self):\n",
    "        \"\"\"Check permutation counts.\"\"\"\n",
    "        df = self.analyzer.permutation_counts()\n",
    "        self.assertTrue(isinstance(df, pd.DataFrame))\n",
    "\n",
    "\n",
    "if __name__ == '__main__':\n",
    "    unittest.main()\n",
    "``` "
   ]
  },
  {
   "cell_type": "markdown",
   "id": "3e058d03-29bc-408f-b36d-0605b4f4b8c0",
   "metadata": {
    "tags": []
   },
   "source": [
    "## Unittest Results (3)\n",
    "\n",
    "Put a copy of the results of running your tests from the command line here.\n",
    "\n",
    "Again, paste as text using triple backticks.\n",
    "\n",
    "- All 12 specified methods return OK (3; .25 each)."
   ]
  },
  {
   "cell_type": "raw",
   "id": "54691fd0-836c-43c7-adc9-4a09d8aa9ab2",
   "metadata": {
    "tags": [],
    "vscode": {
     "languageId": "raw"
    }
   },
   "source": [
    "```\n",
    "(myenv) C:\\Users\\qaism\\OneDrive - University of Virginia\\Documents\\GitHub\\DS5100-FinalProject-qmy6cv>python -m unittest montecarlo/montecarlo_test.py -v > test_results.txt\n",
    "test_combo_counts (montecarlo.montecarlo_test.TestAnalyzer.test_combo_counts)\n",
    "Check combination counts. ... ok\n",
    "test_face_counts_per_roll (montecarlo.montecarlo_test.TestAnalyzer.test_face_counts_per_roll)\n",
    "Check face counts per roll. ... ok\n",
    "test_jackpot (montecarlo.montecarlo_test.TestAnalyzer.test_jackpot)\n",
    "Check computing jackpot count. ... ok\n",
    "test_permutation_counts (montecarlo.montecarlo_test.TestAnalyzer.test_permutation_counts)\n",
    "Check permutation counts. ... ok\n",
    "test_change_weight (montecarlo.montecarlo_test.TestDie.test_change_weight)\n",
    "Check setting weight to a valid numeric value. ... ok\n",
    "test_faces_not_numpy_array (montecarlo.montecarlo_test.TestDie.test_faces_not_numpy_array)\n",
    "Check that input for faces is a numpy array. ... ok\n",
    "test_faces_unique (montecarlo.montecarlo_test.TestDie.test_faces_unique)\n",
    "Check that faces array contains unique values. ... ok\n",
    "test_roll (montecarlo.montecarlo_test.TestDie.test_roll)\n",
    "Check rolling die with valid number of rolls. ... ok\n",
    "test_show (montecarlo.montecarlo_test.TestDie.test_show)\n",
    "Check getting die weights. ... ok\n",
    "test_play (montecarlo.montecarlo_test.TestGame.test_play)\n",
    "Check playing game with valid number of rolls. ... ok\n",
    "test_show_results (montecarlo.montecarlo_test.TestGame.test_show_results)\n",
    "Check retrieving play results with valid format. ... ok\n",
    "\n",
    "----------------------------------------------------------------------\n",
    "Ran 11 tests in 0.041s\n",
    "\n",
    "OK\n",
    "```\n"
   ]
  },
  {
   "cell_type": "markdown",
   "id": "a8939de7",
   "metadata": {},
   "source": [
    "```\n",
    "(myenv) C:\\Users\\qaism\\OneDrive - University of Virginia\\Documents\\GitHub\\DS5100-FinalProject-qmy6cv>python -m unittest montecarlo/montecarlo_test.py -v > test_results.txt\n",
    "test_combo_counts (montecarlo.montecarlo_test.TestAnalyzer.test_combo_counts)\n",
    "Check combination counts. ... ok\n",
    "test_face_counts_per_roll (montecarlo.montecarlo_test.TestAnalyzer.test_face_counts_per_roll)\n",
    "Check face counts per roll. ... ok\n",
    "test_jackpot (montecarlo.montecarlo_test.TestAnalyzer.test_jackpot)\n",
    "Check computing jackpot count. ... ok\n",
    "test_permutation_counts (montecarlo.montecarlo_test.TestAnalyzer.test_permutation_counts)\n",
    "Check permutation counts. ... ok\n",
    "test_change_weight (montecarlo.montecarlo_test.TestDie.test_change_weight)\n",
    "Check setting weight to a valid numeric value. ... ok\n",
    "test_faces_not_numpy_array (montecarlo.montecarlo_test.TestDie.test_faces_not_numpy_array)\n",
    "Check that input for faces is a numpy array. ... ok\n",
    "test_faces_unique (montecarlo.montecarlo_test.TestDie.test_faces_unique)\n",
    "Check that faces array contains unique values. ... ok\n",
    "test_roll (montecarlo.montecarlo_test.TestDie.test_roll)\n",
    "Check rolling die with valid number of rolls. ... ok\n",
    "test_show (montecarlo.montecarlo_test.TestDie.test_show)\n",
    "Check getting die weights. ... ok\n",
    "test_play (montecarlo.montecarlo_test.TestGame.test_play)\n",
    "Check playing game with valid number of rolls. ... ok\n",
    "test_show_results (montecarlo.montecarlo_test.TestGame.test_show_results)\n",
    "Check retrieving play results with valid format. ... ok\n",
    "\n",
    "----------------------------------------------------------------------\n",
    "Ran 11 tests in 0.041s\n",
    "\n",
    "OK\n",
    "\n",
    "```"
   ]
  },
  {
   "cell_type": "markdown",
   "id": "d9ffe8c5-eb2f-4ad1-af76-a46550e4c7ac",
   "metadata": {},
   "source": [
    "## Import (1)\n",
    "\n",
    "Import your module here. This import should refer to the code in your package directory.\n",
    "\n",
    "- Module successuflly imported (1)."
   ]
  },
  {
   "cell_type": "code",
   "execution_count": 1,
   "id": "a05dffb3-e6d6-4f78-9df4-5abd0cf74ca9",
   "metadata": {
    "tags": []
   },
   "outputs": [],
   "source": [
    "import sys\n",
    "import os\n",
    "dir = os.getcwd()\n",
    "mon = os.path.join(dir, 'montecarlo')\n",
    "sys.path.append(mon)\n",
    "import montecarlo.montecarlo as mc\n"
   ]
  },
  {
   "cell_type": "markdown",
   "id": "f30c4842-65b1-4556-98b6-3fe1a07e1371",
   "metadata": {},
   "source": [
    "## Help Docs (4)\n",
    "\n",
    "Show your docstring documentation by applying `help()` to your imported module.\n",
    "\n",
    "- All methods have a docstring (3; .25 each).\n",
    "- All classes have a docstring (1; .33 each)."
   ]
  },
  {
   "cell_type": "code",
   "execution_count": 2,
   "id": "bf4fbf1f-9885-471c-a0a6-e9ca90e160de",
   "metadata": {
    "tags": []
   },
   "outputs": [
    {
     "name": "stdout",
     "output_type": "stream",
     "text": [
      "Help on module montecarlo.montecarlo in montecarlo:\n",
      "\n",
      "NAME\n",
      "    montecarlo.montecarlo\n",
      "\n",
      "CLASSES\n",
      "    builtins.object\n",
      "        Analyzer\n",
      "        Die\n",
      "        Game\n",
      "    \n",
      "    class Analyzer(builtins.object)\n",
      "     |  Analyzer(game)\n",
      "     |  \n",
      "     |  A class for analyzing the results of a game.\n",
      "     |  \n",
      "     |  Methods defined here:\n",
      "     |  \n",
      "     |  __init__(self, game)\n",
      "     |      Initialize the analyzer with a game object.\n",
      "     |      \n",
      "     |      Parameters:\n",
      "     |      game (Game): A Game object to be analyzed.\n",
      "     |      \n",
      "     |      Raises:\n",
      "     |      ValueError: If the input is not a Game object.\n",
      "     |  \n",
      "     |  combo_counts(self)\n",
      "     |      Count the distinct combinations of faces rolled.\n",
      "     |      \n",
      "     |      Returns:\n",
      "     |      pandas.DataFrame: A DataFrame with counts of distinct combinations.\n",
      "     |  \n",
      "     |  face_counts_per_roll(self)\n",
      "     |      Count the occurrences of each face per roll.\n",
      "     |      \n",
      "     |      Returns:\n",
      "     |      pandas.DataFrame: A DataFrame with roll numbers as index and face counts as columns.\n",
      "     |  \n",
      "     |  jackpot(self)\n",
      "     |      Count the number of jackpots in the game.\n",
      "     |      \n",
      "     |      Returns:\n",
      "     |      int: The number of jackpots.\n",
      "     |  \n",
      "     |  permutation_counts(self)\n",
      "     |      Count the distinct permutations of faces rolled.\n",
      "     |      \n",
      "     |      Returns:\n",
      "     |      pandas.DataFrame: A DataFrame with counts of distinct permutations.\n",
      "     |  \n",
      "     |  ----------------------------------------------------------------------\n",
      "     |  Data descriptors defined here:\n",
      "     |  \n",
      "     |  __dict__\n",
      "     |      dictionary for instance variables\n",
      "     |  \n",
      "     |  __weakref__\n",
      "     |      list of weak references to the object\n",
      "    \n",
      "    class Die(builtins.object)\n",
      "     |  Die(faces)\n",
      "     |  \n",
      "     |  A class representing a die with customizable faces and weights.\n",
      "     |  \n",
      "     |  Methods defined here:\n",
      "     |  \n",
      "     |  __init__(self, faces)\n",
      "     |      Initialize the die with faces and default weights.\n",
      "     |      \n",
      "     |      Parameters:\n",
      "     |      faces (numpy.ndarray): An array of faces for the die. Must be strings or numbers.\n",
      "     |      \n",
      "     |      Raises:\n",
      "     |      TypeError: If faces is not a NumPy array.\n",
      "     |      ValueError: If faces do not have unique values.\n",
      "     |  \n",
      "     |  change_weight(self, face, new_weight)\n",
      "     |      Change the weight of a specific face.\n",
      "     |      \n",
      "     |      Parameters:\n",
      "     |      face: The face value to be changed.\n",
      "     |      new_weight: The new weight for the specified face.\n",
      "     |      \n",
      "     |      Raises:\n",
      "     |      ValueError: If the face is not in the die faces.\n",
      "     |      TypeError: If the new weight is not numeric.\n",
      "     |  \n",
      "     |  roll(self, times=1)\n",
      "     |      Roll the die a specified number of times.\n",
      "     |      \n",
      "     |      Parameters:\n",
      "     |      times (int): The number of times to roll the die. Defaults to 1.\n",
      "     |      \n",
      "     |      Returns:\n",
      "     |      list: A list of outcomes from the rolls.\n",
      "     |  \n",
      "     |  show(self)\n",
      "     |      Return the current state of the die.\n",
      "     |      \n",
      "     |      Returns:\n",
      "     |      pandas.DataFrame: A DataFrame containing faces and their weights.\n",
      "     |  \n",
      "     |  ----------------------------------------------------------------------\n",
      "     |  Data descriptors defined here:\n",
      "     |  \n",
      "     |  __dict__\n",
      "     |      dictionary for instance variables\n",
      "     |  \n",
      "     |  __weakref__\n",
      "     |      list of weak references to the object\n",
      "    \n",
      "    class Game(builtins.object)\n",
      "     |  Game(dice)\n",
      "     |  \n",
      "     |  A class representing a game with multiple dice.\n",
      "     |  \n",
      "     |  Methods defined here:\n",
      "     |  \n",
      "     |  __init__(self, dice)\n",
      "     |      Initialize the game with a list of dice.\n",
      "     |      \n",
      "     |      Parameters:\n",
      "     |      dice (list): A list of already instantiated Die objects.\n",
      "     |  \n",
      "     |  play(self, rolls)\n",
      "     |      Roll all dice a specified number of times.\n",
      "     |      \n",
      "     |      Parameters:\n",
      "     |      rolls (int): The number of times the dice should be rolled.\n",
      "     |  \n",
      "     |  show_results(self, form='wide')\n",
      "     |      Return the results of the most recent play.\n",
      "     |      \n",
      "     |      Parameters:\n",
      "     |      form (str): The format of the results, 'wide' or 'narrow'. Defaults to 'wide'.\n",
      "     |      \n",
      "     |      Returns:\n",
      "     |      pandas.DataFrame: The results in the specified format.\n",
      "     |      \n",
      "     |      Raises:\n",
      "     |      ValueError: If the form is not 'wide' or 'narrow'.\n",
      "     |  \n",
      "     |  ----------------------------------------------------------------------\n",
      "     |  Data descriptors defined here:\n",
      "     |  \n",
      "     |  __dict__\n",
      "     |      dictionary for instance variables\n",
      "     |  \n",
      "     |  __weakref__\n",
      "     |      list of weak references to the object\n",
      "\n",
      "FILE\n",
      "    c:\\users\\qaism\\onedrive - university of virginia\\documents\\github\\ds5100-finalproject-qmy6cv\\montecarlo\\montecarlo.py\n",
      "\n",
      "\n"
     ]
    }
   ],
   "source": [
    "help(mc)"
   ]
  },
  {
   "cell_type": "code",
   "execution_count": 3,
   "id": "9e2463d4",
   "metadata": {},
   "outputs": [],
   "source": [
    "#help(mc.Die)\n",
    "#help(mc.Game)\n",
    "#help(mc.Analyzer)"
   ]
  },
  {
   "cell_type": "markdown",
   "id": "a9defa84-b395-4966-bd1c-5c6c2bb7ed68",
   "metadata": {},
   "source": [
    "## `README.md` File (3)\n",
    "\n",
    "Provide link to the README.md file of your project's repo.\n",
    "\n",
    "- Metadata section or info present (1).\n",
    "- Synopsis section showing how each class is called (1). (All must be included.)\n",
    "- API section listing all classes and methods (1). (All must be included.)"
   ]
  },
  {
   "cell_type": "markdown",
   "id": "ee090b33-d593-48a0-bf35-e739cea0942c",
   "metadata": {},
   "source": [
    "URL: https://github.com/qmyhd/DS5100-FinalProject-qmy6cv/blob/2d3b7ceb44ef6958b37b9fb2592e2927fc2af518/README.md"
   ]
  },
  {
   "cell_type": "markdown",
   "id": "108604c8-8827-42ef-ab59-6b25428fc0ca",
   "metadata": {},
   "source": [
    "## Successful installation (2)\n",
    "\n",
    "Put a screenshot or paste a copy of a terminal session where you successfully install your module with pip.\n",
    "\n",
    "If pasting text, use a preformatted text block to show the results.\n",
    "\n",
    "- Installed with `pip` (1).\n",
    "- Successfully installed message appears (1)."
   ]
  },
  {
   "cell_type": "code",
   "execution_count": 4,
   "id": "c92d0ec8",
   "metadata": {},
   "outputs": [
    {
     "name": "stdout",
     "output_type": "stream",
     "text": [
      "Collecting git+https://github.com/qmyhd/DS5100-FinalProject-qmy6cv.git\n",
      "  Cloning https://github.com/qmyhd/DS5100-FinalProject-qmy6cv.git to c:\\users\\qaism\\appdata\\local\\temp\\pip-req-build-dpgqi9ue\n",
      "  Resolved https://github.com/qmyhd/DS5100-FinalProject-qmy6cv.git to commit 2d3b7ceb44ef6958b37b9fb2592e2927fc2af518\n",
      "  Preparing metadata (setup.py): started\n",
      "  Preparing metadata (setup.py): finished with status 'done'\n"
     ]
    },
    {
     "name": "stderr",
     "output_type": "stream",
     "text": [
      "  Running command git clone --filter=blob:none --quiet https://github.com/qmyhd/DS5100-FinalProject-qmy6cv.git 'C:\\Users\\qaism\\AppData\\Local\\Temp\\pip-req-build-dpgqi9ue'\n"
     ]
    }
   ],
   "source": [
    "!pip install git+https://github.com/qmyhd/DS5100-FinalProject-qmy6cv.git"
   ]
  },
  {
   "cell_type": "markdown",
   "id": "7c44695d-d1b3-4edf-9f94-e64d7446f199",
   "metadata": {},
   "source": [
    "# Scenarios\n",
    "\n",
    "Use code blocks to perform the tasks for each scenario.\n",
    "\n",
    "Be sure the outputs are visible before submitting."
   ]
  },
  {
   "cell_type": "markdown",
   "id": "e2479eae-6fc9-44cd-b8d7-9b22cb501f2a",
   "metadata": {
    "jp-MarkdownHeadingCollapsed": true,
    "tags": []
   },
   "source": [
    "## Scenario 1: A 2-headed Coin (9)\n",
    "\n",
    "Task 1. Create a fair coin (with faces $H$ and $T$) and one unfair coin in which one of the faces has a weight of $5$ and the others $1$.\n",
    "\n",
    "- Fair coin created (1).\n",
    "- Unfair coin created with weight as specified (1)."
   ]
  },
  {
   "cell_type": "code",
   "execution_count": 5,
   "id": "55ce498e-c75f-4425-9e3e-b635bd6cd9e1",
   "metadata": {},
   "outputs": [
    {
     "name": "stdout",
     "output_type": "stream",
     "text": [
      "Fair coin weights:\n",
      "   weights\n",
      "H      1.0\n",
      "T      1.0\n",
      "\n",
      "Unfair coin weights:\n",
      "   weights\n",
      "H      5.0\n",
      "T      1.0\n"
     ]
    }
   ],
   "source": [
    "import numpy as np\n",
    "import pandas as pd\n",
    "import matplotlib.pyplot as plt\n",
    "\n",
    "\n",
    "fair_coin = mc.Die(np.array(['H', 'T']))\n",
    "unfair_coin = mc.Die(np.array(['H', 'T']))\n",
    "unfair_coin.change_weight('H', 5)\n",
    "print(\"Fair coin weights:\")\n",
    "print(fair_coin.show())\n",
    "print(\"\\nUnfair coin weights:\")\n",
    "print(unfair_coin.show())\n"
   ]
  },
  {
   "cell_type": "markdown",
   "id": "02b272ab-99da-4b6e-ac2a-555b73e09c07",
   "metadata": {},
   "source": [
    "Task 2. Play a game of $1000$ flips with two fair dice.\n",
    "\n",
    "- Play method called correclty and without error (1)."
   ]
  },
  {
   "cell_type": "code",
   "execution_count": 6,
   "id": "65c92601-d32d-4326-b215-74953aee27f2",
   "metadata": {},
   "outputs": [
    {
     "name": "stdout",
     "output_type": "stream",
     "text": [
      "Game results (two fair coins):\n",
      "     0  1\n",
      "0    H  H\n",
      "1    H  H\n",
      "2    H  T\n",
      "3    T  H\n",
      "4    T  T\n",
      "..  .. ..\n",
      "995  H  H\n",
      "996  H  H\n",
      "997  T  T\n",
      "998  H  T\n",
      "999  T  T\n",
      "\n",
      "[1000 rows x 2 columns]\n"
     ]
    }
   ],
   "source": [
    "game_fair = mc.Game([fair_coin, fair_coin])\n",
    "game_fair.play(1000)\n",
    "print(\"Game results (two fair coins):\")\n",
    "print(game_fair.show_results())\n"
   ]
  },
  {
   "cell_type": "markdown",
   "id": "7d9c3dc8-22c1-4cae-81fb-d68d774a05d1",
   "metadata": {},
   "source": [
    "Task 3. Play another game (using a new Game object) of $1000$ flips, this time using two unfair dice and one fair die. For the second unfair die, you can use the same die object twice in the list of dice you pass to the Game object.\n",
    "\n",
    "- New game object created (1).\n",
    "- Play method called correclty and without error (1)."
   ]
  },
  {
   "cell_type": "code",
   "execution_count": 7,
   "id": "d4098bed-1eb2-4084-8d5e-9fda07c3be43",
   "metadata": {},
   "outputs": [
    {
     "name": "stdout",
     "output_type": "stream",
     "text": [
      "Game results (two unfair coins and one fair coin):\n",
      "     0  1  2\n",
      "0    T  H  H\n",
      "1    T  H  H\n",
      "2    H  T  T\n",
      "3    H  H  H\n",
      "4    H  H  T\n",
      "..  .. .. ..\n",
      "995  H  T  T\n",
      "996  H  H  H\n",
      "997  H  H  T\n",
      "998  H  H  H\n",
      "999  H  H  T\n",
      "\n",
      "[1000 rows x 3 columns]\n"
     ]
    }
   ],
   "source": [
    "game_mixed = mc.Game([unfair_coin, unfair_coin, fair_coin])\n",
    "game_mixed.play(1000)\n",
    "print(\"Game results (two unfair coins and one fair coin):\")\n",
    "print(game_mixed.show_results())\n"
   ]
  },
  {
   "cell_type": "markdown",
   "id": "f690ebfc-fe71-4eb2-976d-7ac80ca6c23f",
   "metadata": {},
   "source": [
    "Task 4. For each game, use an Analyzer object to determine the raw frequency of jackpots — i.e. getting either all $H$s or all $T$s.\n",
    "\n",
    "- Analyzer objecs instantiated for both games (1).\n",
    "- Raw frequencies reported for both (1)."
   ]
  },
  {
   "cell_type": "code",
   "execution_count": 8,
   "id": "b26b8b7e-3be7-4476-a9a4-37d97536729e",
   "metadata": {},
   "outputs": [
    {
     "name": "stdout",
     "output_type": "stream",
     "text": [
      "Jackpot count for fair coins game: 462\n",
      "Jackpot count for mixed coins game: 341\n"
     ]
    }
   ],
   "source": [
    "analyzer_fair = mc.Analyzer(game_fair)\n",
    "analyzer_mixed = mc.Analyzer(game_mixed)\n",
    "\n",
    "fair_jackpot_count = analyzer_fair.jackpot()\n",
    "mixed_jackpot_count = analyzer_mixed.jackpot()\n",
    "\n",
    "print(f\"Jackpot count for fair coins game: {fair_jackpot_count}\")\n",
    "print(f\"Jackpot count for mixed coins game: {mixed_jackpot_count}\")"
   ]
  },
  {
   "cell_type": "markdown",
   "id": "b73d233c-445e-40cd-8858-0c5e1f097105",
   "metadata": {},
   "source": [
    "Task 5. For each analyzer, compute relative frequency as the number of jackpots over the total number of rolls.\n",
    "\n",
    "- Both relative frequencies computed (1)."
   ]
  },
  {
   "cell_type": "code",
   "execution_count": 9,
   "id": "9a96b31b-1b9d-496e-be3e-4bf83c45ec3a",
   "metadata": {},
   "outputs": [
    {
     "name": "stdout",
     "output_type": "stream",
     "text": [
      "Relative jackpot frequency for fair coins game: 0.462\n",
      "Relative jackpot frequency for mixed coins game: 0.341\n"
     ]
    }
   ],
   "source": [
    "fair_freq = fair_jackpot_count / 1000\n",
    "mixed_freq = mixed_jackpot_count / 1000\n",
    "\n",
    "print(f\"Relative jackpot frequency for fair coins game: {fair_freq}\")\n",
    "print(f\"Relative jackpot frequency for mixed coins game: {mixed_freq}\")"
   ]
  },
  {
   "cell_type": "markdown",
   "id": "a6e1e734-7f5c-4721-8ba4-2f3a424cf984",
   "metadata": {},
   "source": [
    "Task 6. Show your results, comparing the two relative frequencies, in a simple bar chart.\n",
    "\n",
    "- Bar chart plotted and correct (1)."
   ]
  },
  {
   "cell_type": "code",
   "execution_count": 10,
   "id": "473fa67c-aa53-4aa3-a0b7-e8772b3f6ed3",
   "metadata": {},
   "outputs": [
    {
     "data": {
      "image/png": "[encoded data removed]",
      "text/plain": [
       "<Figure size 640x480 with 1 Axes>"
      ]
     },
     "metadata": {},
     "output_type": "display_data"
    }
   ],
   "source": [
    "plt.bar(['Fair', 'Mixed'], [fair_freq, mixed_freq])\n",
    "plt.title(\"Comparing Relative Jackpot Frequencies\")\n",
    "plt.xlabel(\"Coin Type\")\n",
    "plt.ylabel(\"Proportion of Rolls as Jackpot\")\n",
    "plt.show()"
   ]
  },
  {
   "cell_type": "markdown",
   "id": "725cfa5b-e4b7-47c9-86aa-8d9e1fe6c8c7",
   "metadata": {},
   "source": [
    "## Scenario 2: A 6-sided Die (9)\n",
    "\n",
    "Task 1. Create three dice, each with six sides having the faces 1 through 6.\n",
    "\n",
    "- Three die objects created (1)."
   ]
  },
  {
   "cell_type": "code",
   "execution_count": 11,
   "id": "6a8bc611-325a-4e05-88d5-980e0a2cf7c5",
   "metadata": {},
   "outputs": [
    {
     "name": "stdout",
     "output_type": "stream",
     "text": [
      "   weights\n",
      "1      1.0\n",
      "2      1.0\n",
      "3      1.0\n",
      "4      1.0\n",
      "5      1.0\n",
      "6      1.0\n"
     ]
    }
   ],
   "source": [
    "die1 = mc.Die(np.array([1, 2, 3, 4, 5, 6]))\n",
    "die2 = mc.Die(np.array([1, 2, 3, 4, 5, 6]))\n",
    "die3 = mc.Die(np.array([1, 2, 3, 4, 5, 6]))\n",
    "print(die1.show())\n"
   ]
  },
  {
   "cell_type": "markdown",
   "id": "2ed3ad26-fbe9-43bd-9ad7-f683a4191d12",
   "metadata": {},
   "source": [
    "Task 2. Convert one of the dice to an unfair one by weighting the face $6$ five times more than the other weights (i.e. it has weight of 5 and the others a weight of 1 each).\n",
    "\n",
    "- Unfair die created with proper call to weight change method (1)."
   ]
  },
  {
   "cell_type": "code",
   "execution_count": 12,
   "id": "e33dd18f-7f90-456d-a680-61c08a328e21",
   "metadata": {},
   "outputs": [
    {
     "name": "stdout",
     "output_type": "stream",
     "text": [
      "   weights\n",
      "1      1.0\n",
      "2      1.0\n",
      "3      1.0\n",
      "4      1.0\n",
      "5      1.0\n",
      "6      5.0\n"
     ]
    }
   ],
   "source": [
    "die2.change_weight(6, 5)\n",
    "print(die2.show())\n"
   ]
  },
  {
   "cell_type": "markdown",
   "id": "7f6c062a-4c5b-45b9-96b8-76a0354c7e47",
   "metadata": {},
   "source": [
    "Task 3. Convert another of the dice to be unfair by weighting the face $1$ five times more than the others.\n",
    "\n",
    "- Unfair die created with proper call to weight change method (1)."
   ]
  },
  {
   "cell_type": "code",
   "execution_count": 13,
   "id": "01133a4e-6b06-4246-8d90-8e6d6995be51",
   "metadata": {},
   "outputs": [
    {
     "name": "stdout",
     "output_type": "stream",
     "text": [
      "   weights\n",
      "1      5.0\n",
      "2      1.0\n",
      "3      1.0\n",
      "4      1.0\n",
      "5      1.0\n",
      "6      1.0\n"
     ]
    }
   ],
   "source": [
    "die3.change_weight(1, 5)\n",
    "print(die3.show())\n"
   ]
  },
  {
   "cell_type": "markdown",
   "id": "f0ed31cb-0a3c-4eb2-b85e-6ed6b2eb6e58",
   "metadata": {},
   "source": [
    "Task 4. Play a game of $10000$ rolls with $5$ fair dice.\n",
    "\n",
    "- Game class properly instantiated (1). \n",
    "- Play method called properly (1)."
   ]
  },
  {
   "cell_type": "code",
   "execution_count": 14,
   "id": "e92395a4-9ed8-4cb0-8c85-38768a784ffc",
   "metadata": {},
   "outputs": [
    {
     "name": "stdout",
     "output_type": "stream",
     "text": [
      "      0  1  2  3  4\n",
      "0     6  5  2  6  2\n",
      "1     6  2  4  4  1\n",
      "2     2  6  1  3  5\n",
      "3     6  6  1  5  6\n",
      "4     1  4  3  4  3\n",
      "...  .. .. .. .. ..\n",
      "9995  2  2  5  1  1\n",
      "9996  5  6  2  2  1\n",
      "9997  3  2  3  1  3\n",
      "9998  1  6  3  1  4\n",
      "9999  1  5  1  5  2\n",
      "\n",
      "[10000 rows x 5 columns]\n"
     ]
    }
   ],
   "source": [
    "game_fair = mc.Game([die1, die1, die1, die1, die1])\n",
    "game_fair.play(10000)\n",
    "print(game_fair.show_results())\n"
   ]
  },
  {
   "cell_type": "markdown",
   "id": "7814b402-46a4-40e5-8141-20e05c3e646b",
   "metadata": {},
   "source": [
    "Task 5. Play another game of $10000$ rolls, this time with $2$ unfair dice, one as defined in steps #2 and #3 respectively, and $3$ fair dice.\n",
    "\n",
    "- Game class properly instantiated (1). \n",
    "- Play method called properly (1)."
   ]
  },
  {
   "cell_type": "code",
   "execution_count": 15,
   "id": "7cd58fba-b2a5-4d5d-bc6d-2a7a68d18c4f",
   "metadata": {},
   "outputs": [
    {
     "name": "stdout",
     "output_type": "stream",
     "text": [
      "      0  1  2  3  4\n",
      "0     6  1  6  3  6\n",
      "1     2  1  6  1  4\n",
      "2     2  1  4  4  6\n",
      "3     6  5  1  3  1\n",
      "4     3  6  4  4  2\n",
      "...  .. .. .. .. ..\n",
      "9995  6  1  1  3  4\n",
      "9996  4  1  4  1  3\n",
      "9997  5  4  1  6  2\n",
      "9998  6  1  3  5  2\n",
      "9999  6  6  5  5  6\n",
      "\n",
      "[10000 rows x 5 columns]\n"
     ]
    }
   ],
   "source": [
    "game_unfair = mc.Game([die2, die3, die1, die1, die1])\n",
    "game_unfair.play(10000)\n",
    "\n",
    "print(game_unfair.show_results())"
   ]
  },
  {
   "cell_type": "markdown",
   "id": "7b6cd372-2bb8-4df8-ade1-8f48bc300955",
   "metadata": {},
   "source": [
    "Task 6. For each game, use an Analyzer object to determine the relative frequency of jackpots and show your results, comparing the two relative frequencies, in a simple bar chart.\n",
    "\n",
    "- Jackpot methods called (1).\n",
    "- Graph produced (1)."
   ]
  },
  {
   "cell_type": "code",
   "execution_count": 16,
   "id": "bbdcf695-8937-406e-9b53-aa0b9ee3c59a",
   "metadata": {},
   "outputs": [
    {
     "name": "stdout",
     "output_type": "stream",
     "text": [
      "Relative jackpot frequency for fair dice game: 0.015\n",
      "Relative jackpot frequency for unfair dice game: 0.005\n"
     ]
    }
   ],
   "source": [
    "analyzer_fair = mc.Analyzer(game_fair)\n",
    "analyzer_unfair = mc.Analyzer(game_unfair)\n",
    "\n",
    "fair_jackpots = analyzer_fair.jackpot()\n",
    "unfair_jackpots = analyzer_unfair.jackpot()\n",
    "fair_freq = fair_jackpots / 1000\n",
    "unfair_freq = unfair_jackpots / 1000\n",
    "print(f\"Relative jackpot frequency for fair dice game: {fair_freq}\")\n",
    "print(f\"Relative jackpot frequency for unfair dice game: {unfair_freq}\")"
   ]
  },
  {
   "cell_type": "code",
   "execution_count": 17,
   "id": "4b1ca77e",
   "metadata": {},
   "outputs": [
    {
     "data": {
      "image/png": "[encoded data removed]",
      "text/plain": [
       "<Figure size 640x480 with 1 Axes>"
      ]
     },
     "metadata": {},
     "output_type": "display_data"
    }
   ],
   "source": [
    "plt.bar(['Fair', 'Unfair'], [fair_freq, unfair_freq])\n",
    "plt.title(\"Comparing Relative Jackpot Frequencies\")\n",
    "plt.xlabel(\"Dice Type\")\n",
    "plt.ylabel(\"Proportion of Rolls as Jackpot\")\n",
    "plt.show()"
   ]
  },
  {
   "cell_type": "markdown",
   "id": "9f04e9be-8fcf-4ea4-a391-6614608285f8",
   "metadata": {},
   "source": [
    "## Scenario 3: Letters of the Alphabet (7)\n",
    "\n",
    "Task 1. Create a \"die\" of letters from $A$ to $Z$ with weights based on their frequency of usage as found in the data file `english_letters.txt`. Use the frequencies (i.e. raw counts) as weights.\n",
    "\n",
    "- Die correctly instantiated with source file data (1).\n",
    "- Weights properly applied using weight setting method (1)."
   ]
  },
  {
   "cell_type": "code",
   "execution_count": 18,
   "id": "b0ceb771-3cdf-4d8f-8c2c-020806bbb909",
   "metadata": {},
   "outputs": [
    {
     "name": "stdout",
     "output_type": "stream",
     "text": [
      "       weights\n",
      "E  529117365.0\n",
      "T  390965105.0\n",
      "A  374061888.0\n",
      "O  326627740.0\n",
      "I  320410057.0\n",
      "N  313720540.0\n",
      "S  294300210.0\n",
      "R  277000841.0\n",
      "H  216768975.0\n",
      "L  183996130.0\n",
      "D  169330528.0\n",
      "C  138416451.0\n",
      "U  117295780.0\n",
      "M  110504544.0\n",
      "F   95422055.0\n",
      "G   91258980.0\n",
      "P   90376747.0\n",
      "W   79843664.0\n",
      "Y   75294515.0\n",
      "B   70195826.0\n",
      "V   46337161.0\n",
      "K   35373464.0\n",
      "J    9613410.0\n",
      "X    8369915.0\n",
      "Z    4975847.0\n",
      "Q    4550166.0\n"
     ]
    }
   ],
   "source": [
    "file_path = 'C:/Users/qaism/OneDrive - University of Virginia/Documents/GitHub/DS5100-FinalProject-qmy6cv/english_letters.txt'\n",
    "\n",
    "letter_freqs = {}\n",
    "with open(file_path, 'r') as file:\n",
    "    for line in file:\n",
    "        letter, freq = line.split()\n",
    "        letter_freqs[letter] = int(freq)\n",
    "        \n",
    "faces = np.array(list(letter_freqs.keys()))\n",
    "weights = np.array(list(letter_freqs.values()), dtype=float)\n",
    "\n",
    "letter_die = mc.Die(faces)\n",
    "for face, weight in letter_freqs.items():\n",
    "    letter_die.change_weight(face, weight)\n",
    "\n",
    "print(letter_die.show())\n"
   ]
  },
  {
   "cell_type": "markdown",
   "id": "88e2e14a-6223-470a-a2c8-bca1120d7a5b",
   "metadata": {},
   "source": [
    "Task 2. Play a game involving $4$ of these dice with $1000$ rolls.\n",
    "\n",
    "- Game play method properly called (1)."
   ]
  },
  {
   "cell_type": "code",
   "execution_count": 19,
   "id": "2ae087cc-936d-4f1e-bddb-a7c179d139e0",
   "metadata": {},
   "outputs": [
    {
     "name": "stdout",
     "output_type": "stream",
     "text": [
      "     0  1  2  3\n",
      "0    S  T  F  E\n",
      "1    M  R  S  S\n",
      "2    O  A  O  T\n",
      "3    O  E  E  O\n",
      "4    T  H  I  N\n",
      "..  .. .. .. ..\n",
      "995  S  N  P  I\n",
      "996  D  H  R  A\n",
      "997  G  E  N  E\n",
      "998  E  S  G  B\n",
      "999  I  T  W  Y\n",
      "\n",
      "[1000 rows x 4 columns]\n"
     ]
    }
   ],
   "source": [
    "dice = [letter_die, letter_die, letter_die, letter_die]\n",
    "game = mc.Game(dice)\n",
    "game.play(1000)\n",
    "results = game.show_results()\n",
    "print(results)"
   ]
  },
  {
   "cell_type": "markdown",
   "id": "3b9ff800-bf1f-4f66-9d7f-ff57a648e9f0",
   "metadata": {},
   "source": [
    "Task 3. Determine how many permutations in your results are actual English words, based on the vocabulary found in `scrabble_words.txt`.\n",
    "\n",
    "- Use permutation method (1).\n",
    "- Get count as difference between permutations and vocabulary (1)."
   ]
  },
  {
   "cell_type": "code",
   "execution_count": 20,
   "id": "ed1c7fa0-cfa3-4cf4-9fd0-9f84b86b0f64",
   "metadata": {},
   "outputs": [
    {
     "name": "stdout",
     "output_type": "stream",
     "text": [
      "Number of actual English words from permutations: 64\n"
     ]
    }
   ],
   "source": [
    "wordpath = 'C:/Users/qaism/OneDrive - University of Virginia/Documents/GitHub/DS5100-FinalProject-qmy6cv/scrabble_words.txt'\n",
    "\n",
    "with open(wordpath, 'r') as file:\n",
    "    english_words = set(file.read().split())\n",
    "\n",
    "analyzer = mc.Analyzer(game)\n",
    "permutations_df = analyzer.permutation_counts()\n",
    "\n",
    "actual_words_count = permutations_df[permutations_df['permutation'].apply(lambda x: ''.join(x) in english_words)].shape[0]\n",
    "print(f\"Number of actual English words from permutations: {actual_words_count}\")"
   ]
  },
  {
   "cell_type": "markdown",
   "id": "fcf068cf-381a-4b3e-ac3a-0510eb4dbdb0",
   "metadata": {},
   "source": [
    "Task 4. Repeat steps #2 and #3, this time with $5$ dice. How many actual words does this produce? Which produces more?\n",
    "\n",
    "- Successfully repreats steps (1).\n",
    "- Identifies parameter with most found words (1)."
   ]
  },
  {
   "cell_type": "code",
   "execution_count": 24,
   "id": "0e146944",
   "metadata": {},
   "outputs": [
    {
     "name": "stdout",
     "output_type": "stream",
     "text": [
      "     0  1  2  3  4\n",
      "0    I  F  F  C  E\n",
      "1    L  H  O  D  E\n",
      "2    P  D  H  I  C\n",
      "3    G  I  A  E  A\n",
      "4    J  A  K  X  O\n",
      "..  .. .. .. .. ..\n",
      "995  W  D  I  C  S\n",
      "996  N  O  A  U  R\n",
      "997  N  I  E  O  O\n",
      "998  S  M  T  P  R\n",
      "999  E  N  S  N  I\n",
      "\n",
      "[1000 rows x 5 columns]\n",
      "Number of actual English words from 5 dice: 10\n"
     ]
    }
   ],
   "source": [
    "dice = [letter_die, letter_die, letter_die, letter_die, letter_die]\n",
    "game = mc.Game(dice)\n",
    "game.play(1000)\n",
    "results = game.show_results()\n",
    "\n",
    "print(results)\n",
    "\n",
    "analyzer = mc.Analyzer(game)\n",
    "permutations_df = analyzer.permutation_counts()\n",
    "actual_count = permutations_df[permutations_df['permutation'].apply(lambda x: ''.join(x) in english_words)].shape[0]\n",
    "print(f\"Number of actual English words from 5 dice: {actual_count}\")"
   ]
  },
  {
   "cell_type": "code",
   "execution_count": 25,
   "id": "28a10f56",
   "metadata": {},
   "outputs": [
    {
     "name": "stdout",
     "output_type": "stream",
     "text": [
      "Number of actual English words from 4 dice: 43\n"
     ]
    }
   ],
   "source": [
    "dice_4 = [letter_die, letter_die, letter_die, letter_die]\n",
    "game_4 = mc.Game(dice_4)\n",
    "game_4.play(1000)\n",
    "results_4 = game_4.show_results()\n",
    "\n",
    "analyzer_4 = mc.Analyzer(game_4)\n",
    "permutations_df_4 = analyzer_4.permutation_counts()\n",
    "actualcount_4 = permutations_df_4[permutations_df_4['permutation'].apply(lambda x: ''.join(x) in english_words)].shape[0]\n",
    "print(f\"Number of actual English words from 4 dice: {actualcount_4}\")"
   ]
  },
  {
   "cell_type": "code",
   "execution_count": 26,
   "id": "0d6b4390",
   "metadata": {},
   "outputs": [
    {
     "name": "stdout",
     "output_type": "stream",
     "text": [
      "4 dice produce more words.\n"
     ]
    }
   ],
   "source": [
    "if actual_count > actualcount_4:\n",
    "    print(\"5 dice produce more words.\")\n",
    "elif actual_count < actualcount_4:\n",
    "    print(\"4 dice produce more words.\")\n",
    "else:\n",
    "    print(\"Both produce the same number of words.\")\n"
   ]
  }
 ],
 "metadata": {
  "kernelspec": {
   "display_name": "Python 3",
   "language": "python",
   "name": "python3"
  },
  "language_info": {
   "codemirror_mode": {
    "name": "ipython",
    "version": 3
   },
   "file_extension": ".py",
   "mimetype": "text/x-python",
   "name": "python",
   "nbconvert_exporter": "python",
   "pygments_lexer": "ipython3",
   "version": "3.11.9"
  },
  "toc-autonumbering": true,
  "widgets": {
   "application/vnd.jupyter.widget-state+json": {
    "state": {},
    "version_major": 2,
    "version_minor": 0
   }
  }
 },
 "nbformat": 4,
 "nbformat_minor": 5
}
